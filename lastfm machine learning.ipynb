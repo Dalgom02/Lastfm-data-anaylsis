{
 "cells": [
  {
   "cell_type": "code",
   "execution_count": 5,
   "id": "5943bbab",
   "metadata": {},
   "outputs": [
    {
     "data": {
      "text/plain": [
       "61.21303030303031"
      ]
     },
     "execution_count": 5,
     "metadata": {},
     "output_type": "execute_result"
    }
   ],
   "source": [
    "# Import necessary libraries\n",
    "import pandas as pd\n",
    "from datetime import datetime\n",
    "from sklearn.model_selection import train_test_split\n",
    "from sklearn.preprocessing import StandardScaler\n",
    "from sklearn.ensemble import RandomForestRegressor\n",
    "from sklearn.ensemble import RandomForestClassifier\n",
    "from sklearn.metrics import mean_absolute_error\n",
    "from sklearn.metrics import accuracy_score\n",
    "\n",
    "\n",
    "# Function to convert date string to datetime object\n",
    "def convert_date(date_str):\n",
    "    return datetime.strptime(date_str, '%d %b %Y, %H:%M')\n",
    "\n",
    "# Load the data\n",
    "df = pd.read_csv('lastfm_data2.csv')\n",
    "\n",
    "# Remove leading and trailing whitespace from column names\n",
    "df.columns = df.columns.str.strip()\n",
    "\n",
    "# Drop rows with missing date values\n",
    "df = df.dropna(subset=['date'])\n",
    "\n",
    "# Apply the function to the 'date' column\n",
    "df['date'] = df['date'].apply(convert_date)\n",
    "\n",
    "# Set the date as the DataFrame's index\n",
    "df.set_index('date', inplace=True)\n",
    "\n",
    "# Reset the index of the DataFrame\n",
    "df_reset = df.reset_index()\n",
    "\n",
    "# Extract the hour and day of week from the date\n",
    "df_reset['hour'] = df_reset['date'].dt.hour\n",
    "df_reset['day_of_week'] = df_reset['date'].dt.dayofweek\n",
    "\n",
    "# Create a new DataFrame with the 'hour', 'day_of_week', and 'counts' features\n",
    "df_reset['counts'] = 1  # For each row, the count is 1\n",
    "data = df_reset.groupby(['day_of_week', 'hour']).size().reset_index(name='counts')\n",
    "\n",
    "# Split the data into features (X) and target variable (y)\n",
    "X = data[['day_of_week', 'hour']]\n",
    "y = data['counts']\n",
    "\n",
    "# Split the data into a training set and a test set\n",
    "X_train, X_test, y_train, y_test = train_test_split(X, y, test_size=0.2, random_state=42)\n",
    "\n",
    "# Standardize the features to have zero mean and unit variance\n",
    "scaler = StandardScaler()\n",
    "X_train_scaled = scaler.fit_transform(X_train)\n",
    "X_test_scaled = scaler.transform(X_test)\n",
    "\n",
    "# Create and train the Random Forest Regressor\n",
    "regressor = RandomForestRegressor(n_estimators=100, random_state=42)\n",
    "regressor.fit(X_train_scaled, y_train)\n",
    "\n",
    "# Predict the number of songs listened to in the test set\n",
    "y_pred = regressor.predict(X_test_scaled)\n",
    "\n",
    "# Calculate the mean absolute error of the predictions\n",
    "mae = mean_absolute_error(y_test, y_pred)\n",
    "\n",
    "mae\n"
   ]
  },
  {
   "cell_type": "code",
   "execution_count": 6,
   "id": "b37c06b3",
   "metadata": {},
   "outputs": [
    {
     "name": "stdout",
     "output_type": "stream",
     "text": [
      "12.16\n",
      "507.45\n",
      "1223.17\n"
     ]
    }
   ],
   "source": [
    "# Function to predict the number of songs listened to at a specific hour and day of the week\n",
    "def predict_scrobbles(day_of_week, hour):\n",
    "    # Prepare the feature vector\n",
    "    X_pred = pd.DataFrame({'day_of_week': [day_of_week], 'hour': [hour]})\n",
    "    \n",
    "    # Standardize the features\n",
    "    X_pred_scaled = scaler.transform(X_pred)\n",
    "    \n",
    "    # Make the prediction\n",
    "    y_pred = regressor.predict(X_pred_scaled)\n",
    "    \n",
    "    return y_pred[0]\n",
    "\n",
    "# Test the function with an example: predict the number of songs listened to on Monday at 10 AM\n",
    "print(predict_scrobbles(0, 10))\n",
    "print(predict_scrobbles(1, 15))\n",
    "print(predict_scrobbles(5, 1))\n"
   ]
  },
  {
   "cell_type": "code",
   "execution_count": 7,
   "id": "249fd4fb",
   "metadata": {},
   "outputs": [
    {
     "data": {
      "text/plain": [
       "0.5454545454545454"
      ]
     },
     "execution_count": 7,
     "metadata": {},
     "output_type": "execute_result"
    }
   ],
   "source": [
    "\n",
    "# For each track, get the most common tag and consider it as the genre\n",
    "df_reset['tags'] = df_reset['tags'].apply(lambda x: str(x).split(',')[0] if pd.notnull(x) else 'Unknown')\n",
    "\n",
    "# Create a new DataFrame for the classification model\n",
    "data_cls = df_reset.groupby(['day_of_week', 'hour'])['tags'].agg(lambda x: x.value_counts().index[0]).reset_index()\n",
    "\n",
    "# Split the data into features (X) and target variable (y)\n",
    "X_cls = data_cls[['day_of_week', 'hour']]\n",
    "y_cls = data_cls['tags']\n",
    "\n",
    "# Split the data into a training set and a test set\n",
    "X_train_cls, X_test_cls, y_train_cls, y_test_cls = train_test_split(X_cls, y_cls, test_size=0.2, random_state=42)\n",
    "\n",
    "# Standardize the features to have zero mean and unit variance\n",
    "scaler_cls = StandardScaler()\n",
    "X_train_cls_scaled = scaler_cls.fit_transform(X_train_cls)\n",
    "X_test_cls_scaled = scaler_cls.transform(X_test_cls)\n",
    "\n",
    "# Create and train the Random Forest Classifier\n",
    "classifier = RandomForestClassifier(n_estimators=100, random_state=42)\n",
    "classifier.fit(X_train_cls_scaled, y_train_cls)\n",
    "\n",
    "# Predict the genre of music listened to in the test set\n",
    "y_pred_cls = classifier.predict(X_test_cls_scaled)\n",
    "\n",
    "# Calculate the accuracy of the predictions\n",
    "accuracy_cls = accuracy_score(y_test_cls, y_pred_cls)\n",
    "\n",
    "accuracy_cls\n"
   ]
  },
  {
   "cell_type": "code",
   "execution_count": 8,
   "id": "2698f830",
   "metadata": {},
   "outputs": [
    {
     "name": "stdout",
     "output_type": "stream",
     "text": [
      "alternative\n",
      "alternative\n",
      "k-pop\n"
     ]
    }
   ],
   "source": [
    "# Function to predict the genre of music listened to at a specific hour and day of the week\n",
    "def predict_genre(day_of_week, hour):\n",
    "    # Prepare the feature vector\n",
    "    X_pred = pd.DataFrame({'day_of_week': [day_of_week], 'hour': [hour]})\n",
    "    \n",
    "    # Standardize the features\n",
    "    X_pred_scaled = scaler_cls.transform(X_pred)\n",
    "    \n",
    "    # Make the prediction\n",
    "    y_pred = classifier.predict(X_pred_scaled)\n",
    "    \n",
    "    return y_pred[0]\n",
    "\n",
    "# Test the function with an example: predict the genre of music listened to on Monday at 10 AM\n",
    "print(predict_genre(0, 10))\n",
    "print(predict_genre(1, 15))\n",
    "print(predict_genre(5, 1))\n"
   ]
  }
 ],
 "metadata": {
  "kernelspec": {
   "display_name": "Python 3 (ipykernel)",
   "language": "python",
   "name": "python3"
  },
  "language_info": {
   "codemirror_mode": {
    "name": "ipython",
    "version": 3
   },
   "file_extension": ".py",
   "mimetype": "text/x-python",
   "name": "python",
   "nbconvert_exporter": "python",
   "pygments_lexer": "ipython3",
   "version": "3.11.3"
  }
 },
 "nbformat": 4,
 "nbformat_minor": 5
}
