{
 "cells": [
  {
   "cell_type": "code",
   "execution_count": 4,
   "id": "20aafd07",
   "metadata": {},
   "outputs": [],
   "source": [
    "import numpy as np\n",
    "import pandas as pd\n",
    "import matplotlib.pyplot as plt\n",
    "import seaborn as sns\n",
    "import requests\n",
    "import json\n",
    "import time\n",
    "from datetime import datetime\n",
    "import matplotlib.patches as mpatches\n",
    "\n",
    "API_KEY = '670856810f366a1dce53a40a4d69e0df'\n",
    "USER_AGENT = 'Mozilla/5.0'\n",
    "USERNAME = 'R1ZEN'"
   ]
  },
  {
   "cell_type": "markdown",
   "id": "02ed1e91",
   "metadata": {},
   "source": [
    "The lastfm_get function, which makes an API request to Last.fm and fetches data. There are helper functions to retrieve artist top tags and paginated data from Last.fm. Also to make sure to add delays between requests."
   ]
  },
  {
   "cell_type": "code",
   "execution_count": 3,
   "id": "5d1280a5",
   "metadata": {},
   "outputs": [],
   "source": [
    "def lastfm_get(payload):\n",
    "    headers = {'user-agent': USER_AGENT}\n",
    "    url = 'http://ws.audioscrobbler.com/2.0/'\n",
    "    payload['user'] = USERNAME\n",
    "    payload['api_key'] = API_KEY\n",
    "    payload['format'] = 'json'\n",
    "\n",
    "    response = requests.get(url, headers=headers, params=payload)\n",
    "    return response\n",
    "\n",
    "\n",
    "# Initialize an empty dictionary as cache\n",
    "artist_tags_cache = {}\n",
    "\n",
    "def get_artist_top_tags(artist):\n",
    "    # Check if the artist's tags are already in the cache\n",
    "    if artist in artist_tags_cache:\n",
    "        return artist_tags_cache[artist]\n",
    "\n",
    "    # If not, fetch the tags from the API\n",
    "    payload = {\n",
    "        'method': 'artist.getTopTags',\n",
    "        'artist': artist\n",
    "    }\n",
    "    response = lastfm_get(payload)\n",
    "    if response.status_code != 200:\n",
    "        return None\n",
    "    json_response = response.json()\n",
    "    if 'toptags' in json_response and 'tag' in json_response['toptags']:\n",
    "        tags = [tag['name'] for tag in json_response['toptags']['tag'][:3]]\n",
    "    else:\n",
    "        tags = []\n",
    "    time.sleep(0.5)  # Delay to avoid overwhelming the API\n",
    "\n",
    "    # Save the tags in the cache\n",
    "    artist_tags_cache[artist] = ', '.join(tags)\n",
    "\n",
    "    return artist_tags_cache[artist]\n",
    "\n",
    "def jprint(obj):\n",
    "    text = json.dumps(obj, sort_keys=True, indent=4)\n",
    "    print(text)\n",
    "\n",
    "    \n",
    "def get_paginated_data(method, total_pages):\n",
    "    page = 1\n",
    "    while page <= total_pages:\n",
    "        payload = {\n",
    "            'method': method,\n",
    "            'page': page\n",
    "        }\n",
    "        response = lastfm_get(payload)\n",
    "        if response.status_code != 200:\n",
    "            break\n",
    "        json_response = response.json()\n",
    "        yield json_response\n",
    "        page += 1\n",
    "        time.sleep(0.5)  # delay between requests\n"
   ]
  },
  {
   "cell_type": "code",
   "execution_count": null,
   "id": "93a45363",
   "metadata": {
    "scrolled": true
   },
   "outputs": [],
   "source": [
    "# Get the total number of pages\n",
    "response = lastfm_get({'method': 'user.getrecenttracks'})\n",
    "\n",
    "# Extract total number of pages from the response. \n",
    "total_pages = int(response.json()['recenttracks']['@attr']['totalPages'])\n",
    "\n",
    "# Fetch all the data pages\n",
    "data = [page_data for page_data in get_paginated_data('user.getrecenttracks', total_pages)]\n"
   ]
  },
  {
   "cell_type": "markdown",
   "id": "369a9814",
   "metadata": {},
   "source": [
    "JSON data fetched from the API is flattened into a more readable and usable DataFrame format. Then basic cleaning dropping unnecessary columns and certain columns are renamed or restructured for clarity."
   ]
  },
  {
   "cell_type": "code",
   "execution_count": 5,
   "id": "693814f0",
   "metadata": {},
   "outputs": [
    {
     "name": "stdout",
     "output_type": "stream",
     "text": [
      "                                                    track        artist  \\\n",
      "74852                                              イエスタディ      セキトオ・シゲオ   \n",
      "44564                                                 kit         Julie   \n",
      "56351                                             Come in    Weatherday   \n",
      "137057  Layla - Acoustic; Live at MTV Unplugged, Bray ...  Eric Clapton   \n",
      "8253                                               Datura        Cortex   \n",
      "\n",
      "                             album                date  \n",
      "74852           華麗なるエレクトーン -ザ・ワード-  28 Aug 2021, 20:40  \n",
      "44564                 starjump/kit  08 Jul 2022, 22:43  \n",
      "56351                      Come In  07 Apr 2022, 19:28  \n",
      "137057  Unplugged (Deluxe Edition)  01 Apr 2020, 05:40  \n",
      "8253                Cortex, Vol. 2  29 Apr 2023, 01:45  \n"
     ]
    }
   ],
   "source": [
    "# Convert the nested JSON into a flat table\n",
    "df = pd.json_normalize([item for sublist in [page['recenttracks']['track'] for page in data] for item in sublist])\n",
    "\n",
    "# Drop unnecessary columns\n",
    "df.drop(columns=['@attr.nowplaying', 'image', 'streamable', 'url', 'mbid', 'album.mbid', 'artist.mbid'], inplace=True)\n",
    "\n",
    "# Extract '#text' from 'artist', 'album' and 'date' if they exist\n",
    "if 'artist.#text' in df.columns:\n",
    "    df['artist'] = df['artist.#text']\n",
    "if 'album.#text' in df.columns:\n",
    "    df['album'] = df['album.#text']\n",
    "if 'date.#text' in df.columns:\n",
    "    df['date'] = df['date.#text']\n",
    "\n",
    "# Drop the original 'artist', 'album' and 'date' columns\n",
    "df.drop(columns=['artist.#text', 'album.#text', 'date.#text', 'date.uts'], errors='ignore', inplace=True)\n",
    "\n",
    "# Rename 'name' to 'track'\n",
    "df.rename(columns={'name': 'track'}, inplace=True)\n",
    "\n",
    "# Display a sample of the cleaned data\n",
    "print(df.sample(5))"
   ]
  },
  {
   "cell_type": "markdown",
   "id": "c305d2ae",
   "metadata": {},
   "source": [
    "Data is updated with a new 'tags' column containing the genre information for each scrobble. Lastly, the DataFrame is saved to a CSV file named 'lastfm_data2.csv'."
   ]
  },
  {
   "cell_type": "code",
   "execution_count": 6,
   "id": "91b49faf",
   "metadata": {},
   "outputs": [
    {
     "name": "stdout",
     "output_type": "stream",
     "text": [
      "                              track      artist  \\\n",
      "78861                 etoile et toi      物語シリーズ   \n",
      "68952               Falling for You      Weezer   \n",
      "135697                      Eclipse  Pink Floyd   \n",
      "76454                  Meat Grinder  Madvillain   \n",
      "114693  Blue Monday - 2016 Remaster   New Order   \n",
      "\n",
      "                                                    album                date  \\\n",
      "78861   Kizumonogatari Gekihanongakushu (Original Soun...  12 Jul 2021, 04:29   \n",
      "68952                                           Pinkerton  26 Nov 2021, 03:59   \n",
      "135697                          The Dark Side of the Moon  08 Apr 2020, 20:30   \n",
      "76454                                         Madvillainy  10 Aug 2021, 01:37   \n",
      "114693                            Singles (2016 Remaster)  13 Sep 2020, 18:51   \n",
      "\n",
      "                                                    tags  \n",
      "78861                        Soundtrack, j-pop, japanese  \n",
      "68952                rock, alternative, alternative rock  \n",
      "135697  Progressive rock, classic rock, Psychedelic Rock  \n",
      "76454                  Hip-Hop, underground hip-hop, rap  \n",
      "114693                   new wave, electronic, post-punk  \n"
     ]
    }
   ],
   "source": [
    "# Cell 5\n",
    "# Get a list of unique artists\n",
    "unique_artists = df['artist'].unique()\n",
    "\n",
    "# Get the top tags for each unique artist\n",
    "artist_tags = {artist: get_artist_top_tags(artist) for artist in unique_artists}\n",
    "\n",
    "# Map the artist column to the genre tags\n",
    "df['tags'] = df['artist'].map(artist_tags)\n",
    "\n",
    "# Display a sample of the cleaned data with tags\n",
    "print(df.sample(5))\n",
    "\n",
    "# Save the DataFrame to a CSV file\n",
    "df.to_csv('lastfm_data2.csv', index=False)\n"
   ]
  }
 ],
 "metadata": {
  "kernelspec": {
   "display_name": "Python 3 (ipykernel)",
   "language": "python",
   "name": "python3"
  },
  "language_info": {
   "codemirror_mode": {
    "name": "ipython",
    "version": 3
   },
   "file_extension": ".py",
   "mimetype": "text/x-python",
   "name": "python",
   "nbconvert_exporter": "python",
   "pygments_lexer": "ipython3",
   "version": "3.11.3"
  }
 },
 "nbformat": 4,
 "nbformat_minor": 5
}
